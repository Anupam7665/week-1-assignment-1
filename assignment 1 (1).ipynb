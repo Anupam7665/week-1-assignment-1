{
 "cells": [
  {
   "cell_type": "markdown",
   "id": "558ede63-aaea-44de-8dda-184553cab106",
   "metadata": {},
   "source": [
    "Q1\n",
    "\n",
    "(1) String"
   ]
  },
  {
   "cell_type": "code",
   "execution_count": null,
   "id": "88db84d8-289f-450c-8e00-929ed61dba65",
   "metadata": {},
   "outputs": [],
   "source": [
    "A =\"anup\""
   ]
  },
  {
   "cell_type": "markdown",
   "id": "5f282e31-f5fc-439d-b748-dafdbfadfee0",
   "metadata": {},
   "source": [
    "(2)\n",
    "\n",
    "list"
   ]
  },
  {
   "cell_type": "code",
   "execution_count": null,
   "id": "fa4d7910-4b4c-4875-bb90-c68447d7b43b",
   "metadata": {},
   "outputs": [],
   "source": [
    "a=[2,3,4,True,29.7]"
   ]
  },
  {
   "cell_type": "markdown",
   "id": "dbddf79b-9973-4464-a978-e0d26572c6fd",
   "metadata": {},
   "source": [
    "(3)\n",
    "\n",
    "float"
   ]
  },
  {
   "cell_type": "code",
   "execution_count": null,
   "id": "1823d618-87e1-4a54-a899-5cf5915b716a",
   "metadata": {},
   "outputs": [],
   "source": [
    "a=[2,3,4,True,29.7]"
   ]
  },
  {
   "cell_type": "markdown",
   "id": "ca88b028-55a9-470b-ab38-4b2ed4c4b1fb",
   "metadata": {},
   "source": [
    "(4)\n",
    "\n",
    "tuple"
   ]
  },
  {
   "cell_type": "code",
   "execution_count": null,
   "id": "7d13d126-cf8a-4f02-a834-845387046afb",
   "metadata": {},
   "outputs": [],
   "source": [
    "a=('vedu')\n",
    " ('v','e','d','u')"
   ]
  },
  {
   "cell_type": "markdown",
   "id": "cd2e4793-e7eb-438e-8e68-36001b09542a",
   "metadata": {},
   "source": [
    "Q(2)"
   ]
  },
  {
   "cell_type": "code",
   "execution_count": null,
   "id": "dd054b4c-763f-451a-af1f-4f8d0379f784",
   "metadata": {},
   "outputs": [],
   "source": [
    "ans(1) var1='' :- string\n",
    "ans(2) var2='[DS,ML,PYTHON]' :- String\n",
    "ans(3) var=['DS','ML','PYTHON'] :- List\n",
    "ans(4) var4=1 :- int"
   ]
  },
  {
   "cell_type": "markdown",
   "id": "f1d2e681-a6b0-4f80-bc45-070337a6ddfc",
   "metadata": {},
   "source": [
    "Q(3)"
   ]
  },
  {
   "cell_type": "markdown",
   "id": "dae8a541-ea08-4e0c-aa1d-51587923b99c",
   "metadata": {},
   "source": [
    "(1)  /\n",
    "\n",
    "it is used for division for eg:"
   ]
  },
  {
   "cell_type": "code",
   "execution_count": 2,
   "id": "fcb0f9f2-0187-472a-8f09-e624e381b959",
   "metadata": {},
   "outputs": [
    {
     "data": {
      "text/plain": [
       "2.0"
      ]
     },
     "execution_count": 2,
     "metadata": {},
     "output_type": "execute_result"
    }
   ],
   "source": [
    "4/2"
   ]
  },
  {
   "cell_type": "markdown",
   "id": "30856cf7-2354-41a7-9673-e82cc30c6406",
   "metadata": {},
   "source": [
    "(2)  % \n",
    "\n",
    "it is used to divide operands and return the remainder"
   ]
  },
  {
   "cell_type": "code",
   "execution_count": 3,
   "id": "0a1dc989-ee27-4d06-baf3-eee913d0f31c",
   "metadata": {},
   "outputs": [
    {
     "data": {
      "text/plain": [
       "1"
      ]
     },
     "execution_count": 3,
     "metadata": {},
     "output_type": "execute_result"
    }
   ],
   "source": [
    "5%2"
   ]
  },
  {
   "cell_type": "markdown",
   "id": "7a0b06fa-03f0-4d7b-969c-320402c9b055",
   "metadata": {},
   "source": [
    "(3) // \n",
    "\n",
    "divides and the return the integer value of quotient "
   ]
  },
  {
   "cell_type": "code",
   "execution_count": 11,
   "id": "af644d6d-ccd1-46b2-ad29-4d827f930fa7",
   "metadata": {},
   "outputs": [
    {
     "data": {
      "text/plain": [
       "2"
      ]
     },
     "execution_count": 11,
     "metadata": {},
     "output_type": "execute_result"
    }
   ],
   "source": [
    "4//2"
   ]
  },
  {
   "cell_type": "markdown",
   "id": "772d07c7-4d3e-4714-9c28-832e4fb62f72",
   "metadata": {},
   "source": [
    "(4) **\n",
    "\n",
    "it is used for the multiplying the power of a given number "
   ]
  },
  {
   "cell_type": "code",
   "execution_count": 12,
   "id": "0ac74692-5b42-40ce-a23e-3a58a28fe0b0",
   "metadata": {},
   "outputs": [
    {
     "data": {
      "text/plain": [
       "8"
      ]
     },
     "execution_count": 12,
     "metadata": {},
     "output_type": "execute_result"
    }
   ],
   "source": [
    "2**3"
   ]
  },
  {
   "cell_type": "markdown",
   "id": "af20aa68-46fe-40e0-b69a-1f31eba94645",
   "metadata": {},
   "source": [
    "(4)  Create a list of length 10 of your choice containing multiple types of data. using for loop print the element and its data types "
   ]
  },
  {
   "cell_type": "code",
   "execution_count": 13,
   "id": "21cd801f-8456-4463-aae7-7d0f5cae7538",
   "metadata": {},
   "outputs": [
    {
     "name": "stdout",
     "output_type": "stream",
     "text": [
      "34\n",
      "<class 'int'>\n",
      "54\n",
      "<class 'int'>\n",
      "IOT\n",
      "<class 'str'>\n",
      "54.65\n",
      "<class 'float'>\n",
      "anup\n",
      "<class 'str'>\n",
      "True\n",
      "<class 'bool'>\n",
      "54.7\n",
      "<class 'float'>\n",
      "64\n",
      "<class 'int'>\n",
      "False\n",
      "<class 'bool'>\n",
      "pure\n",
      "<class 'str'>\n"
     ]
    }
   ],
   "source": [
    "a=[34, 54, 'IOT', 54.65, \"anup\", True, 54.7, 64, False, 'pure']\n",
    "for i in a:\n",
    "    print(i)\n",
    "    print(type(i))"
   ]
  },
  {
   "cell_type": "markdown",
   "id": "5dd07e02-0f55-49de-b2b6-a38af1df823f",
   "metadata": {},
   "source": [
    "(5) Using a while loop,verify if the number A is purely divisible by number B and if so then so how many times it can be divsible"
   ]
  },
  {
   "cell_type": "code",
   "execution_count": 19,
   "id": "a61ab394-fa2f-4258-be00-0d6f9bffdef4",
   "metadata": {},
   "outputs": [
    {
     "name": "stdin",
     "output_type": "stream",
     "text": [
      " 8\n",
      " 2\n"
     ]
    },
    {
     "name": "stdout",
     "output_type": "stream",
     "text": [
      " a is divisible by b 3 times\n"
     ]
    }
   ],
   "source": [
    "a=int(input())\n",
    "b=int(input())\n",
    "count=0\n",
    "while a%b==0:\n",
    "    count+=1\n",
    "    a=a/b\n",
    "print(f\" a is divisible by b {count} times\")  \n",
    "    "
   ]
  },
  {
   "cell_type": "markdown",
   "id": "f8ec0def-aebc-4442-88ef-996da3ee1694",
   "metadata": {},
   "source": [
    "Q(6)  Create a list containing 25 int types data.Using for loop and if-else condition pritn if the element is divisible by 3 or not"
   ]
  },
  {
   "cell_type": "code",
   "execution_count": 98,
   "id": "9ab49d28-7fef-4e8a-b2f6-ac40c86763de",
   "metadata": {},
   "outputs": [
    {
     "name": "stdout",
     "output_type": "stream",
     "text": [
      "3 is divisible by 3\n",
      "6 is divisible by 3\n",
      "9 is divisible by 3\n",
      "18 is divisible by 3\n",
      "21 is divisible by 3\n",
      "27 is divisible by 3\n",
      "45 is divisible by 3\n",
      "39 is divisible by 3\n",
      "42 is divisible by 3\n",
      "45 is divisible by 3\n",
      "99 is divisible by 3\n",
      "99 is not divisible by 3\n"
     ]
    }
   ],
   "source": [
    "a=[1,2,3,4,5,6,7,8,9,18,19,20,21,27,32,45,76,80,39,42,44,46,45,19,99]\n",
    "for i in a:\n",
    "    if (i%3==0):\n",
    "        print(f\"{i} is divisible by 3\")\n",
    "else:\n",
    "    print(f\"{i} is not divisible by 3\")"
   ]
  },
  {
   "cell_type": "markdown",
   "id": "b00eeee1-06b9-4157-9887-dd0ba3b9240c",
   "metadata": {},
   "source": [
    "Q(7) What do you understand about mutable and immutable data types? Give example for both showing this property."
   ]
  },
  {
   "cell_type": "markdown",
   "id": "2f7a9b74-5eac-4ca6-bb6b-62ae4c7c380d",
   "metadata": {},
   "source": [
    "In mutable data types the value in the list can be changed or modified   \n",
    "for eg:-(List)  "
   ]
  },
  {
   "cell_type": "code",
   "execution_count": 100,
   "id": "88b24e19-2606-4ca5-8fe9-b27915e94a10",
   "metadata": {},
   "outputs": [],
   "source": [
    "a=[1, 3, 4, 5, True, \"scam\", 34.56]"
   ]
  },
  {
   "cell_type": "code",
   "execution_count": 89,
   "id": "47f0c9fb-86d4-4736-98c1-7484483eb863",
   "metadata": {},
   "outputs": [
    {
     "data": {
      "text/plain": [
       "list"
      ]
     },
     "execution_count": 89,
     "metadata": {},
     "output_type": "execute_result"
    }
   ],
   "source": [
    "type(a)"
   ]
  },
  {
   "cell_type": "code",
   "execution_count": 92,
   "id": "e9ec6031-1f8d-4cfc-ad31-368d1e5ecb1a",
   "metadata": {},
   "outputs": [
    {
     "data": {
      "text/plain": [
       "5"
      ]
     },
     "execution_count": 92,
     "metadata": {},
     "output_type": "execute_result"
    }
   ],
   "source": [
    "a[3]"
   ]
  },
  {
   "cell_type": "code",
   "execution_count": 93,
   "id": "8b17f1c5-18ed-4c1d-b76c-a9bbef36e49a",
   "metadata": {},
   "outputs": [],
   "source": [
    "a[3]=\"pw\""
   ]
  },
  {
   "cell_type": "code",
   "execution_count": 94,
   "id": "4d069b41-b403-4a58-b50c-34048e73564e",
   "metadata": {},
   "outputs": [
    {
     "data": {
      "text/plain": [
       "[1, 3, 4, 'pw', True, 23.67]"
      ]
     },
     "execution_count": 94,
     "metadata": {},
     "output_type": "execute_result"
    }
   ],
   "source": [
    "a"
   ]
  },
  {
   "cell_type": "markdown",
   "id": "49bc682b-b9ad-4e4f-85d8-6b264efedd4f",
   "metadata": {},
   "source": [
    "In immmutable data types the value which is in the form of string,if we have to change a single alphabet in the string it can't be changed\n",
    "\n",
    "for eg (string)"
   ]
  },
  {
   "cell_type": "code",
   "execution_count": 101,
   "id": "b3520cbb-d4dd-424f-926d-46221e4f0e58",
   "metadata": {},
   "outputs": [],
   "source": [
    "a=[1, 3, 4, 5, True, \"scam\", 34.56]"
   ]
  },
  {
   "cell_type": "code",
   "execution_count": 102,
   "id": "24df5942-b76c-4aec-bfa4-af8a0ef04a37",
   "metadata": {},
   "outputs": [
    {
     "data": {
      "text/plain": [
       "list"
      ]
     },
     "execution_count": 102,
     "metadata": {},
     "output_type": "execute_result"
    }
   ],
   "source": [
    "type(a)"
   ]
  },
  {
   "cell_type": "code",
   "execution_count": 107,
   "id": "9eb56b01-40f4-4613-af23-0c32820684a0",
   "metadata": {},
   "outputs": [],
   "source": [
    "f=\"scam\""
   ]
  },
  {
   "cell_type": "code",
   "execution_count": 109,
   "id": "08a10ba3-6e4f-47d6-8c2d-6f89fa757ded",
   "metadata": {},
   "outputs": [
    {
     "data": {
      "text/plain": [
       "'m'"
      ]
     },
     "execution_count": 109,
     "metadata": {},
     "output_type": "execute_result"
    }
   ],
   "source": [
    "f[3]"
   ]
  },
  {
   "cell_type": "code",
   "execution_count": 111,
   "id": "7286fed4-8069-41a0-9034-74c5cb72820d",
   "metadata": {},
   "outputs": [
    {
     "ename": "TypeError",
     "evalue": "'str' object does not support item assignment",
     "output_type": "error",
     "traceback": [
      "\u001b[0;31m---------------------------------------------------------------------------\u001b[0m",
      "\u001b[0;31mTypeError\u001b[0m                                 Traceback (most recent call last)",
      "Cell \u001b[0;32mIn[111], line 1\u001b[0m\n\u001b[0;32m----> 1\u001b[0m \u001b[43mf\u001b[49m\u001b[43m[\u001b[49m\u001b[38;5;241;43m2\u001b[39;49m\u001b[43m]\u001b[49m\u001b[38;5;241m=\u001b[39m\u001b[38;5;124m\"\u001b[39m\u001b[38;5;124mn\u001b[39m\u001b[38;5;124m\"\u001b[39m\n",
      "\u001b[0;31mTypeError\u001b[0m: 'str' object does not support item assignment"
     ]
    }
   ],
   "source": [
    "f[2]=\"n\""
   ]
  }
 ],
 "metadata": {
  "kernelspec": {
   "display_name": "Python 3 (ipykernel)",
   "language": "python",
   "name": "python3"
  },
  "language_info": {
   "codemirror_mode": {
    "name": "ipython",
    "version": 3
   },
   "file_extension": ".py",
   "mimetype": "text/x-python",
   "name": "python",
   "nbconvert_exporter": "python",
   "pygments_lexer": "ipython3",
   "version": "3.10.8"
  }
 },
 "nbformat": 4,
 "nbformat_minor": 5
}
